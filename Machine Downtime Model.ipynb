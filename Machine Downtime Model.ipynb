{
 "cells": [
  {
   "cell_type": "code",
   "execution_count": 2,
   "id": "e300b090",
   "metadata": {},
   "outputs": [],
   "source": [
    "import pandas as pd\n",
    "import numpy as np\n",
    "import matplotlib.pyplot as plt\n",
    "import seaborn as sns\n",
    "\n",
    "\n",
    "from sklearn.model_selection import train_test_split, cross_val_score\n",
    "\n",
    "from sklearn.metrics import accuracy_score, confusion_matrix"
   ]
  },
  {
   "cell_type": "code",
   "execution_count": 3,
   "id": "ea73144c",
   "metadata": {},
   "outputs": [],
   "source": [
    "machine_data = pd.read_csv(r\"E:\\360digiTMG-Project\\processed_file.csv\",index_col = 0)\n",
    "\n",
    "machine = machine_data.copy()"
   ]
  },
  {
   "cell_type": "code",
   "execution_count": 4,
   "id": "7ac2d6ad",
   "metadata": {},
   "outputs": [
    {
     "name": "stdout",
     "output_type": "stream",
     "text": [
      "<class 'pandas.core.frame.DataFrame'>\n",
      "Index: 2289 entries, 0 to 2499\n",
      "Data columns (total 15 columns):\n",
      " #   Column                       Non-Null Count  Dtype  \n",
      "---  ------                       --------------  -----  \n",
      " 0   Date                         2289 non-null   object \n",
      " 1   Machine_ID                   2289 non-null   object \n",
      " 2   Hydraulic_Pressure           2289 non-null   float64\n",
      " 3   Coolant_Pressure             2289 non-null   float64\n",
      " 4   Air_System_Pressure          2289 non-null   float64\n",
      " 5   Coolant_Temperature          2289 non-null   float64\n",
      " 6   Hydraulic_Oil_Temperature    2289 non-null   float64\n",
      " 7   Spindle_Bearing_Temperature  2289 non-null   float64\n",
      " 8   Spindle_Vibration            2289 non-null   float64\n",
      " 9   Tool_Vibration               2289 non-null   float64\n",
      " 10  Spindle_Speed                2289 non-null   float64\n",
      " 11  Voltage                      2289 non-null   float64\n",
      " 12  Torque                       2289 non-null   float64\n",
      " 13  Cutting                      2289 non-null   float64\n",
      " 14  Downtime                     2289 non-null   object \n",
      "dtypes: float64(12), object(3)\n",
      "memory usage: 286.1+ KB\n"
     ]
    }
   ],
   "source": [
    "machine.info()"
   ]
  },
  {
   "cell_type": "code",
   "execution_count": 5,
   "id": "0565db6b",
   "metadata": {},
   "outputs": [
    {
     "data": {
      "text/plain": [
       "2494    No_Machine_Failure\n",
       "2495    No_Machine_Failure\n",
       "2496    No_Machine_Failure\n",
       "2498    No_Machine_Failure\n",
       "2499       Machine_Failure\n",
       "Name: Downtime, dtype: object"
      ]
     },
     "execution_count": 5,
     "metadata": {},
     "output_type": "execute_result"
    }
   ],
   "source": [
    "machine.Downtime.head()\n",
    "machine.Downtime.tail()"
   ]
  },
  {
   "cell_type": "code",
   "execution_count": 6,
   "id": "81792e0f",
   "metadata": {},
   "outputs": [
    {
     "name": "stdout",
     "output_type": "stream",
     "text": [
      "['Date_01-03-2022', 'Date_29-03-2022', 'Date_05-01-2022', 'Date_06-03-2022', 'Date_28-03-2022', 'Date_12-04-2022', 'Date_19-03-2022', 'Date_21-12-2021', 'Date_25-02-2022', 'Torque', 'Date_17-04-2022', 'Date_27-02-2022', 'Date_22-01-2022', 'Date_25-05-2022', 'Date_15-02-2022', 'Date_30-12-2021', 'Date_12-03-2022', 'Hydraulic_Pressure', 'Date_09-05-2022', 'Date_23-05-2022', 'Date_03-04-2022', 'Date_08-05-2022', 'Date_06-01-2022', 'Tool_Vibration', 'Date_01-05-2022', 'Date_28-01-2022', 'Date_09-04-2022', 'Date_08-04-2022', 'Date_02-05-2022', 'Date_26-03-2022', 'Date_08-03-2022', 'Date_16-05-2022', 'Date_13-02-2022', 'Date_19-06-2022', 'Date_13-03-2022', 'Date_02-04-2022', 'Date_04-05-2022', 'Date_20-03-2022', 'Date_20-01-2022', 'Coolant_Temperature', 'Date_10-04-2022', 'Date_24-05-2022', 'Date_09-03-2022', 'Date_22-03-2022', 'Date_02-02-2022', 'Date_17-12-2021', 'Date_08-02-2022', 'Date_04-03-2022', 'Date_31-12-2021', 'Machine_ID_Makino-L3-Unit1-2015', 'Date_24-02-2022', 'Date_10-05-2022', 'Date_05-02-2022', 'Date_23-04-2022', 'Date_08-01-2022', 'Date_08-12-2021', 'Date_22-02-2022', 'Date_29-12-2021', 'Date_21-04-2022', 'Date_14-02-2022', 'Date_25-01-2022', 'Date_12-05-2022', 'Date_19-05-2022', 'Date_19-01-2022', 'Date_17-02-2022', 'Date_02-03-2022', 'Date_07-05-2022', 'Date_18-02-2022', 'Date_15-05-2022', 'Date_21-05-2022', 'Date_18-03-2022', 'Date_03-05-2022', 'Date_26-02-2022', 'Spindle_Vibration', 'Date_07-04-2022', 'Date_16-02-2022', 'Date_06-04-2022', 'Date_19-02-2022', 'Date_15-04-2022', 'Voltage', 'Date_23-02-2022', 'Date_27-03-2022', 'Date_15-01-2022', 'Date_28-04-2022', 'Date_29-04-2022', 'Date_03-01-2022', 'Date_04-02-2022', 'Date_10-03-2022', 'Date_13-06-2022', 'Date_20-04-2022', 'Date_24-01-2022', 'Date_07-01-2022', 'Date_05-03-2022', 'Date_17-01-2022', 'Date_17-03-2022', 'Date_25-03-2022', 'Date_24-03-2022', 'Date_27-12-2021', 'Date_14-04-2022', 'Date_14-05-2022', 'Date_25-04-2022', 'Date_30-04-2022', 'Date_20-02-2022', 'Date_23-03-2022', 'Date_10-02-2022', 'Date_11-04-2022', 'Date_24-04-2022', 'Date_13-05-2022', 'Date_19-04-2022', 'Date_31-03-2022', 'Date_11-03-2022', 'Date_09-02-2022', 'Date_07-03-2022', 'Date_13-01-2022', 'Date_03-03-2022', 'Date_21-01-2022', 'Date_18-05-2022', 'Date_10-01-2022', 'Date_14-01-2022', 'Date_06-02-2022', 'Date_22-12-2021', 'Date_16-04-2022', 'Date_27-05-2022', 'Date_07-06-2022', 'Date_28-12-2021', 'Spindle_Bearing_Temperature', 'Date_11-01-2022', 'Date_06-05-2022', 'Date_18-04-2022', 'Date_24-11-2021', 'Date_27-01-2022', 'Date_31-05-2022', 'Date_28-02-2022', 'Coolant_Pressure', 'Date_29-01-2022', 'Date_30-01-2022', 'Date_23-01-2022', 'Date_26-01-2022', 'Date_04-04-2022', 'Date_16-03-2022', 'Machine_ID_Makino-L2-Unit1-2015', 'Date_04-06-2022', 'Date_27-04-2022', 'Spindle_Speed', 'Date_24-12-2021', 'Date_13-04-2022', 'Date_29-05-2022', 'Date_31-01-2022', 'Cutting', 'Date_15-03-2022', 'Date_26-12-2021', 'Date_12-01-2022', 'Date_11-05-2022', 'Date_05-05-2022', 'Date_09-06-2022', 'Date_18-01-2022', 'Date_21-03-2022', 'Date_14-03-2022', 'Hydraulic_Oil_Temperature', 'Date_21-02-2022', 'Date_30-03-2022', 'Air_System_Pressure', 'Date_05-04-2022', 'Date_01-04-2022', 'Date_17-05-2022', 'Date_26-04-2022', 'Date_16-01-2022', 'Date_11-02-2022', 'Date_12-02-2022', 'Date_09-01-2022', 'Date_22-04-2022', 'Date_07-02-2022', 'Date_06-06-2022', 'Date_03-02-2022']\n"
     ]
    }
   ],
   "source": [
    "machine[\"Downtime\"] = machine[\"Downtime\"].map({\"Machine_Failure\":0,\"No_Machine_Failure\":1})\n",
    "\n",
    "machine = pd.get_dummies(machine,drop_first = True)\n",
    "\n",
    "columns = list(machine.columns)\n",
    "\n",
    "features = list(set(columns) - set(['Downtime']))\n",
    "\n",
    "print(features)\n"
   ]
  },
  {
   "cell_type": "code",
   "execution_count": 7,
   "id": "f90deefd",
   "metadata": {},
   "outputs": [
    {
     "name": "stdout",
     "output_type": "stream",
     "text": [
      "['Hydraulic_Pressure', 'Coolant_Pressure', 'Air_System_Pressure', 'Coolant_Temperature', 'Hydraulic_Oil_Temperature', 'Spindle_Bearing_Temperature', 'Spindle_Vibration', 'Tool_Vibration', 'Spindle_Speed', 'Voltage', 'Torque', 'Cutting', 'Downtime', 'Date_01-03-2022', 'Date_01-04-2022', 'Date_01-05-2022', 'Date_02-02-2022', 'Date_02-03-2022', 'Date_02-04-2022', 'Date_02-05-2022', 'Date_03-01-2022', 'Date_03-02-2022', 'Date_03-03-2022', 'Date_03-04-2022', 'Date_03-05-2022', 'Date_04-02-2022', 'Date_04-03-2022', 'Date_04-04-2022', 'Date_04-05-2022', 'Date_04-06-2022', 'Date_05-01-2022', 'Date_05-02-2022', 'Date_05-03-2022', 'Date_05-04-2022', 'Date_05-05-2022', 'Date_06-01-2022', 'Date_06-02-2022', 'Date_06-03-2022', 'Date_06-04-2022', 'Date_06-05-2022', 'Date_06-06-2022', 'Date_07-01-2022', 'Date_07-02-2022', 'Date_07-03-2022', 'Date_07-04-2022', 'Date_07-05-2022', 'Date_07-06-2022', 'Date_08-01-2022', 'Date_08-02-2022', 'Date_08-03-2022', 'Date_08-04-2022', 'Date_08-05-2022', 'Date_08-12-2021', 'Date_09-01-2022', 'Date_09-02-2022', 'Date_09-03-2022', 'Date_09-04-2022', 'Date_09-05-2022', 'Date_09-06-2022', 'Date_10-01-2022', 'Date_10-02-2022', 'Date_10-03-2022', 'Date_10-04-2022', 'Date_10-05-2022', 'Date_11-01-2022', 'Date_11-02-2022', 'Date_11-03-2022', 'Date_11-04-2022', 'Date_11-05-2022', 'Date_12-01-2022', 'Date_12-02-2022', 'Date_12-03-2022', 'Date_12-04-2022', 'Date_12-05-2022', 'Date_13-01-2022', 'Date_13-02-2022', 'Date_13-03-2022', 'Date_13-04-2022', 'Date_13-05-2022', 'Date_13-06-2022', 'Date_14-01-2022', 'Date_14-02-2022', 'Date_14-03-2022', 'Date_14-04-2022', 'Date_14-05-2022', 'Date_15-01-2022', 'Date_15-02-2022', 'Date_15-03-2022', 'Date_15-04-2022', 'Date_15-05-2022', 'Date_16-01-2022', 'Date_16-02-2022', 'Date_16-03-2022', 'Date_16-04-2022', 'Date_16-05-2022', 'Date_17-01-2022', 'Date_17-02-2022', 'Date_17-03-2022', 'Date_17-04-2022', 'Date_17-05-2022', 'Date_17-12-2021', 'Date_18-01-2022', 'Date_18-02-2022', 'Date_18-03-2022', 'Date_18-04-2022', 'Date_18-05-2022', 'Date_19-01-2022', 'Date_19-02-2022', 'Date_19-03-2022', 'Date_19-04-2022', 'Date_19-05-2022', 'Date_19-06-2022', 'Date_20-01-2022', 'Date_20-02-2022', 'Date_20-03-2022', 'Date_20-04-2022', 'Date_21-01-2022', 'Date_21-02-2022', 'Date_21-03-2022', 'Date_21-04-2022', 'Date_21-05-2022', 'Date_21-12-2021', 'Date_22-01-2022', 'Date_22-02-2022', 'Date_22-03-2022', 'Date_22-04-2022', 'Date_22-12-2021', 'Date_23-01-2022', 'Date_23-02-2022', 'Date_23-03-2022', 'Date_23-04-2022', 'Date_23-05-2022', 'Date_24-01-2022', 'Date_24-02-2022', 'Date_24-03-2022', 'Date_24-04-2022', 'Date_24-05-2022', 'Date_24-11-2021', 'Date_24-12-2021', 'Date_25-01-2022', 'Date_25-02-2022', 'Date_25-03-2022', 'Date_25-04-2022', 'Date_25-05-2022', 'Date_26-01-2022', 'Date_26-02-2022', 'Date_26-03-2022', 'Date_26-04-2022', 'Date_26-12-2021', 'Date_27-01-2022', 'Date_27-02-2022', 'Date_27-03-2022', 'Date_27-04-2022', 'Date_27-05-2022', 'Date_27-12-2021', 'Date_28-01-2022', 'Date_28-02-2022', 'Date_28-03-2022', 'Date_28-04-2022', 'Date_28-12-2021', 'Date_29-01-2022', 'Date_29-03-2022', 'Date_29-04-2022', 'Date_29-05-2022', 'Date_29-12-2021', 'Date_30-01-2022', 'Date_30-03-2022', 'Date_30-04-2022', 'Date_30-12-2021', 'Date_31-01-2022', 'Date_31-03-2022', 'Date_31-05-2022', 'Date_31-12-2021', 'Machine_ID_Makino-L2-Unit1-2015', 'Machine_ID_Makino-L3-Unit1-2015']\n"
     ]
    }
   ],
   "source": [
    "print(columns)"
   ]
  },
  {
   "cell_type": "code",
   "execution_count": 8,
   "id": "b3917886",
   "metadata": {},
   "outputs": [
    {
     "data": {
      "text/html": [
       "<div>\n",
       "<style scoped>\n",
       "    .dataframe tbody tr th:only-of-type {\n",
       "        vertical-align: middle;\n",
       "    }\n",
       "\n",
       "    .dataframe tbody tr th {\n",
       "        vertical-align: top;\n",
       "    }\n",
       "\n",
       "    .dataframe thead th {\n",
       "        text-align: right;\n",
       "    }\n",
       "</style>\n",
       "<table border=\"1\" class=\"dataframe\">\n",
       "  <thead>\n",
       "    <tr style=\"text-align: right;\">\n",
       "      <th></th>\n",
       "      <th>Hydraulic_Pressure</th>\n",
       "      <th>Coolant_Pressure</th>\n",
       "      <th>Air_System_Pressure</th>\n",
       "      <th>Coolant_Temperature</th>\n",
       "      <th>Hydraulic_Oil_Temperature</th>\n",
       "      <th>Spindle_Bearing_Temperature</th>\n",
       "      <th>Spindle_Vibration</th>\n",
       "      <th>Tool_Vibration</th>\n",
       "      <th>Spindle_Speed</th>\n",
       "      <th>Voltage</th>\n",
       "      <th>...</th>\n",
       "      <th>Date_30-01-2022</th>\n",
       "      <th>Date_30-03-2022</th>\n",
       "      <th>Date_30-04-2022</th>\n",
       "      <th>Date_30-12-2021</th>\n",
       "      <th>Date_31-01-2022</th>\n",
       "      <th>Date_31-03-2022</th>\n",
       "      <th>Date_31-05-2022</th>\n",
       "      <th>Date_31-12-2021</th>\n",
       "      <th>Machine_ID_Makino-L2-Unit1-2015</th>\n",
       "      <th>Machine_ID_Makino-L3-Unit1-2015</th>\n",
       "    </tr>\n",
       "  </thead>\n",
       "  <tbody>\n",
       "    <tr>\n",
       "      <th>0</th>\n",
       "      <td>71.04</td>\n",
       "      <td>6.933725</td>\n",
       "      <td>6.284965</td>\n",
       "      <td>25.6</td>\n",
       "      <td>46.0</td>\n",
       "      <td>33.4</td>\n",
       "      <td>1.291</td>\n",
       "      <td>26.492</td>\n",
       "      <td>25892.0</td>\n",
       "      <td>335.0</td>\n",
       "      <td>...</td>\n",
       "      <td>False</td>\n",
       "      <td>False</td>\n",
       "      <td>False</td>\n",
       "      <td>False</td>\n",
       "      <td>False</td>\n",
       "      <td>False</td>\n",
       "      <td>False</td>\n",
       "      <td>True</td>\n",
       "      <td>False</td>\n",
       "      <td>False</td>\n",
       "    </tr>\n",
       "    <tr>\n",
       "      <th>1</th>\n",
       "      <td>125.33</td>\n",
       "      <td>4.936892</td>\n",
       "      <td>6.196733</td>\n",
       "      <td>35.3</td>\n",
       "      <td>47.4</td>\n",
       "      <td>34.6</td>\n",
       "      <td>1.382</td>\n",
       "      <td>25.274</td>\n",
       "      <td>19856.0</td>\n",
       "      <td>368.0</td>\n",
       "      <td>...</td>\n",
       "      <td>False</td>\n",
       "      <td>False</td>\n",
       "      <td>False</td>\n",
       "      <td>False</td>\n",
       "      <td>False</td>\n",
       "      <td>False</td>\n",
       "      <td>False</td>\n",
       "      <td>True</td>\n",
       "      <td>False</td>\n",
       "      <td>False</td>\n",
       "    </tr>\n",
       "    <tr>\n",
       "      <th>2</th>\n",
       "      <td>71.12</td>\n",
       "      <td>6.839413</td>\n",
       "      <td>6.655448</td>\n",
       "      <td>13.1</td>\n",
       "      <td>40.7</td>\n",
       "      <td>33.0</td>\n",
       "      <td>1.319</td>\n",
       "      <td>30.608</td>\n",
       "      <td>19851.0</td>\n",
       "      <td>325.0</td>\n",
       "      <td>...</td>\n",
       "      <td>False</td>\n",
       "      <td>False</td>\n",
       "      <td>False</td>\n",
       "      <td>False</td>\n",
       "      <td>False</td>\n",
       "      <td>False</td>\n",
       "      <td>False</td>\n",
       "      <td>True</td>\n",
       "      <td>False</td>\n",
       "      <td>True</td>\n",
       "    </tr>\n",
       "    <tr>\n",
       "      <th>3</th>\n",
       "      <td>139.34</td>\n",
       "      <td>4.574382</td>\n",
       "      <td>6.560394</td>\n",
       "      <td>24.4</td>\n",
       "      <td>44.2</td>\n",
       "      <td>40.6</td>\n",
       "      <td>0.618</td>\n",
       "      <td>30.791</td>\n",
       "      <td>18461.0</td>\n",
       "      <td>360.0</td>\n",
       "      <td>...</td>\n",
       "      <td>False</td>\n",
       "      <td>False</td>\n",
       "      <td>False</td>\n",
       "      <td>False</td>\n",
       "      <td>False</td>\n",
       "      <td>False</td>\n",
       "      <td>True</td>\n",
       "      <td>False</td>\n",
       "      <td>True</td>\n",
       "      <td>False</td>\n",
       "    </tr>\n",
       "    <tr>\n",
       "      <th>4</th>\n",
       "      <td>60.51</td>\n",
       "      <td>6.893182</td>\n",
       "      <td>6.141238</td>\n",
       "      <td>4.1</td>\n",
       "      <td>47.3</td>\n",
       "      <td>31.4</td>\n",
       "      <td>0.983</td>\n",
       "      <td>25.516</td>\n",
       "      <td>26526.0</td>\n",
       "      <td>354.0</td>\n",
       "      <td>...</td>\n",
       "      <td>False</td>\n",
       "      <td>False</td>\n",
       "      <td>False</td>\n",
       "      <td>False</td>\n",
       "      <td>False</td>\n",
       "      <td>True</td>\n",
       "      <td>False</td>\n",
       "      <td>False</td>\n",
       "      <td>False</td>\n",
       "      <td>False</td>\n",
       "    </tr>\n",
       "  </tbody>\n",
       "</table>\n",
       "<p>5 rows × 175 columns</p>\n",
       "</div>"
      ],
      "text/plain": [
       "   Hydraulic_Pressure  Coolant_Pressure  Air_System_Pressure  \\\n",
       "0               71.04          6.933725             6.284965   \n",
       "1              125.33          4.936892             6.196733   \n",
       "2               71.12          6.839413             6.655448   \n",
       "3              139.34          4.574382             6.560394   \n",
       "4               60.51          6.893182             6.141238   \n",
       "\n",
       "   Coolant_Temperature  Hydraulic_Oil_Temperature  \\\n",
       "0                 25.6                       46.0   \n",
       "1                 35.3                       47.4   \n",
       "2                 13.1                       40.7   \n",
       "3                 24.4                       44.2   \n",
       "4                  4.1                       47.3   \n",
       "\n",
       "   Spindle_Bearing_Temperature  Spindle_Vibration  Tool_Vibration  \\\n",
       "0                         33.4              1.291          26.492   \n",
       "1                         34.6              1.382          25.274   \n",
       "2                         33.0              1.319          30.608   \n",
       "3                         40.6              0.618          30.791   \n",
       "4                         31.4              0.983          25.516   \n",
       "\n",
       "   Spindle_Speed  Voltage  ...  Date_30-01-2022  Date_30-03-2022  \\\n",
       "0        25892.0    335.0  ...            False            False   \n",
       "1        19856.0    368.0  ...            False            False   \n",
       "2        19851.0    325.0  ...            False            False   \n",
       "3        18461.0    360.0  ...            False            False   \n",
       "4        26526.0    354.0  ...            False            False   \n",
       "\n",
       "   Date_30-04-2022  Date_30-12-2021  Date_31-01-2022  Date_31-03-2022  \\\n",
       "0            False            False            False            False   \n",
       "1            False            False            False            False   \n",
       "2            False            False            False            False   \n",
       "3            False            False            False            False   \n",
       "4            False            False            False             True   \n",
       "\n",
       "   Date_31-05-2022  Date_31-12-2021  Machine_ID_Makino-L2-Unit1-2015  \\\n",
       "0            False             True                            False   \n",
       "1            False             True                            False   \n",
       "2            False             True                            False   \n",
       "3             True            False                             True   \n",
       "4            False            False                            False   \n",
       "\n",
       "   Machine_ID_Makino-L3-Unit1-2015  \n",
       "0                            False  \n",
       "1                            False  \n",
       "2                             True  \n",
       "3                            False  \n",
       "4                            False  \n",
       "\n",
       "[5 rows x 175 columns]"
      ]
     },
     "execution_count": 8,
     "metadata": {},
     "output_type": "execute_result"
    }
   ],
   "source": [
    "machine.head()"
   ]
  },
  {
   "cell_type": "code",
   "execution_count": 9,
   "id": "b0c7a239",
   "metadata": {},
   "outputs": [
    {
     "name": "stdout",
     "output_type": "stream",
     "text": [
      "[[False False False ... False False False]\n",
      " [False False False ... False False False]\n",
      " [False False False ... False False False]\n",
      " ...\n",
      " [False False False ... False False False]\n",
      " [False False False ... False False False]\n",
      " [False False False ... False False False]]\n"
     ]
    }
   ],
   "source": [
    "x = machine[features].values\n",
    "print(x)"
   ]
  },
  {
   "cell_type": "code",
   "execution_count": 10,
   "id": "6e175156",
   "metadata": {},
   "outputs": [
    {
     "name": "stdout",
     "output_type": "stream",
     "text": [
      "[0 0 0 ... 1 1 0]\n"
     ]
    }
   ],
   "source": [
    "y = machine['Downtime'].values\n",
    "print(y)"
   ]
  },
  {
   "cell_type": "code",
   "execution_count": 11,
   "id": "009a108e",
   "metadata": {},
   "outputs": [
    {
     "name": "stdout",
     "output_type": "stream",
     "text": [
      "(1831, 174) (458, 174) (1831,) (458,)\n"
     ]
    }
   ],
   "source": [
    "train_x,test_x,train_y,test_y = train_test_split(x,y,test_size = 0.20)\n",
    "\n",
    "print(train_x.shape,test_x.shape,train_y.shape,test_y.shape)"
   ]
  },
  {
   "cell_type": "code",
   "execution_count": 12,
   "id": "6e4ba28f",
   "metadata": {},
   "outputs": [
    {
     "name": "stderr",
     "output_type": "stream",
     "text": [
      "C:\\Users\\vishn\\anaconda3\\Lib\\site-packages\\sklearn\\linear_model\\_logistic.py:458: ConvergenceWarning: lbfgs failed to converge (status=1):\n",
      "STOP: TOTAL NO. of ITERATIONS REACHED LIMIT.\n",
      "\n",
      "Increase the number of iterations (max_iter) or scale the data as shown in:\n",
      "    https://scikit-learn.org/stable/modules/preprocessing.html\n",
      "Please also refer to the documentation for alternative solver options:\n",
      "    https://scikit-learn.org/stable/modules/linear_model.html#logistic-regression\n",
      "  n_iter_i = _check_optimize_result(\n"
     ]
    }
   ],
   "source": [
    "#Model Building\n",
    "\n",
    "from sklearn.linear_model import LogisticRegression\n",
    "logistic_model = LogisticRegression()\n",
    "\n",
    "logistic_model.fit(train_x,train_y)\n",
    "\n",
    "logistic_predictions = logistic_model.predict(test_x)"
   ]
  },
  {
   "cell_type": "code",
   "execution_count": 13,
   "id": "169d62c5",
   "metadata": {},
   "outputs": [
    {
     "name": "stdout",
     "output_type": "stream",
     "text": [
      "[[188  51]\n",
      " [ 41 178]]\n",
      "0.7991266375545851\n"
     ]
    }
   ],
   "source": [
    "# confusion matrix - Logistic Regression\n",
    "\n",
    "confusion = confusion_matrix(test_y,logistic_predictions)\n",
    "\n",
    "print(confusion)\n",
    "\n",
    "# Finding accuracy\n",
    "accuracy = accuracy_score(test_y,logistic_predictions)\n",
    "\n",
    "print(accuracy)"
   ]
  },
  {
   "cell_type": "code",
   "execution_count": 14,
   "id": "eeaf0dad",
   "metadata": {},
   "outputs": [],
   "source": [
    "# Decision Tree model \n",
    "\n",
    "from sklearn.tree import DecisionTreeClassifier\n",
    "\n",
    "dt_model = DecisionTreeClassifier()\n",
    "\n",
    "dt_model.fit(train_x,train_y)\n",
    "\n",
    "dt_predictions = dt_model.predict(test_x)"
   ]
  },
  {
   "cell_type": "code",
   "execution_count": 16,
   "id": "3d55e6b2",
   "metadata": {},
   "outputs": [
    {
     "name": "stdout",
     "output_type": "stream",
     "text": [
      "[[231   8]\n",
      " [  3 216]]\n",
      "0.9759825327510917\n"
     ]
    }
   ],
   "source": [
    "#Confusion matrix - Decision Tree\n",
    "\n",
    "dt_confusion = confusion_matrix(test_y,dt_predictions)\n",
    "\n",
    "print(dt_confusion)\n",
    "\n",
    "#Accuracy\n",
    "\n",
    "dt_accuracy = accuracy_score(test_y,dt_predictions)\n",
    "\n",
    "print(dt_accuracy)"
   ]
  },
  {
   "cell_type": "code",
   "execution_count": 20,
   "id": "335bdb68",
   "metadata": {},
   "outputs": [],
   "source": [
    "# Random Forest Classifier\n",
    "\n",
    "from sklearn.ensemble import RandomForestClassifier\n",
    "\n",
    "rf_model = RandomForestClassifier()\n",
    "\n",
    "rf_model.fit(train_x,train_y)\n",
    "\n",
    "rf_predictions = rf_model.predict(test_x)\n"
   ]
  },
  {
   "cell_type": "code",
   "execution_count": 21,
   "id": "94db67e4",
   "metadata": {},
   "outputs": [
    {
     "name": "stdout",
     "output_type": "stream",
     "text": [
      "[[234   5]\n",
      " [  3 216]]\n",
      "0.982532751091703\n"
     ]
    }
   ],
   "source": [
    "# Confusion Matrix - Random Forest\n",
    "\n",
    "rf_confusion = confusion_matrix(test_y,rf_predictions)\n",
    "\n",
    "print(rf_confusion)\n",
    "\n",
    "# Accuracy - Random Forest\n",
    "\n",
    "rf_accuracy = accuracy_score(test_y,rf_predictions)\n",
    "\n",
    "print(rf_accuracy)"
   ]
  },
  {
   "cell_type": "code",
   "execution_count": 24,
   "id": "cf010623",
   "metadata": {},
   "outputs": [
    {
     "name": "stdout",
     "output_type": "stream",
     "text": [
      "[[False False False ... False False False]\n",
      " [False False False ... False False False]\n",
      " [False False False ... False False False]\n",
      " ...\n",
      " [False False False ... False False False]\n",
      " [False False False ... False False False]\n",
      " [False False False ... False False False]]\n"
     ]
    },
    {
     "ename": "AttributeError",
     "evalue": "'NoneType' object has no attribute 'split'",
     "output_type": "error",
     "traceback": [
      "\u001b[1;31m---------------------------------------------------------------------------\u001b[0m",
      "\u001b[1;31mAttributeError\u001b[0m                            Traceback (most recent call last)",
      "Cell \u001b[1;32mIn[24], line 11\u001b[0m\n\u001b[0;32m      7\u001b[0m knn_model\u001b[38;5;241m.\u001b[39mfit(train_x,train_y)\n\u001b[0;32m      9\u001b[0m \u001b[38;5;28mprint\u001b[39m(test_x)\n\u001b[1;32m---> 11\u001b[0m knn_predictions \u001b[38;5;241m=\u001b[39m knn_model\u001b[38;5;241m.\u001b[39mpredict(test_x)\n\u001b[0;32m     13\u001b[0m \u001b[38;5;28mprint\u001b[39m(knn_predictions)\n",
      "File \u001b[1;32m~\\anaconda3\\Lib\\site-packages\\sklearn\\neighbors\\_classification.py:234\u001b[0m, in \u001b[0;36mKNeighborsClassifier.predict\u001b[1;34m(self, X)\u001b[0m\n\u001b[0;32m    218\u001b[0m \u001b[38;5;250m\u001b[39m\u001b[38;5;124;03m\"\"\"Predict the class labels for the provided data.\u001b[39;00m\n\u001b[0;32m    219\u001b[0m \n\u001b[0;32m    220\u001b[0m \u001b[38;5;124;03mParameters\u001b[39;00m\n\u001b[1;32m   (...)\u001b[0m\n\u001b[0;32m    229\u001b[0m \u001b[38;5;124;03m    Class labels for each data sample.\u001b[39;00m\n\u001b[0;32m    230\u001b[0m \u001b[38;5;124;03m\"\"\"\u001b[39;00m\n\u001b[0;32m    231\u001b[0m \u001b[38;5;28;01mif\u001b[39;00m \u001b[38;5;28mself\u001b[39m\u001b[38;5;241m.\u001b[39mweights \u001b[38;5;241m==\u001b[39m \u001b[38;5;124m\"\u001b[39m\u001b[38;5;124muniform\u001b[39m\u001b[38;5;124m\"\u001b[39m:\n\u001b[0;32m    232\u001b[0m     \u001b[38;5;66;03m# In that case, we do not need the distances to perform\u001b[39;00m\n\u001b[0;32m    233\u001b[0m     \u001b[38;5;66;03m# the weighting so we do not compute them.\u001b[39;00m\n\u001b[1;32m--> 234\u001b[0m     neigh_ind \u001b[38;5;241m=\u001b[39m \u001b[38;5;28mself\u001b[39m\u001b[38;5;241m.\u001b[39mkneighbors(X, return_distance\u001b[38;5;241m=\u001b[39m\u001b[38;5;28;01mFalse\u001b[39;00m)\n\u001b[0;32m    235\u001b[0m     neigh_dist \u001b[38;5;241m=\u001b[39m \u001b[38;5;28;01mNone\u001b[39;00m\n\u001b[0;32m    236\u001b[0m \u001b[38;5;28;01melse\u001b[39;00m:\n",
      "File \u001b[1;32m~\\anaconda3\\Lib\\site-packages\\sklearn\\neighbors\\_base.py:824\u001b[0m, in \u001b[0;36mKNeighborsMixin.kneighbors\u001b[1;34m(self, X, n_neighbors, return_distance)\u001b[0m\n\u001b[0;32m    817\u001b[0m use_pairwise_distances_reductions \u001b[38;5;241m=\u001b[39m (\n\u001b[0;32m    818\u001b[0m     \u001b[38;5;28mself\u001b[39m\u001b[38;5;241m.\u001b[39m_fit_method \u001b[38;5;241m==\u001b[39m \u001b[38;5;124m\"\u001b[39m\u001b[38;5;124mbrute\u001b[39m\u001b[38;5;124m\"\u001b[39m\n\u001b[0;32m    819\u001b[0m     \u001b[38;5;129;01mand\u001b[39;00m ArgKmin\u001b[38;5;241m.\u001b[39mis_usable_for(\n\u001b[0;32m    820\u001b[0m         X \u001b[38;5;28;01mif\u001b[39;00m X \u001b[38;5;129;01mis\u001b[39;00m \u001b[38;5;129;01mnot\u001b[39;00m \u001b[38;5;28;01mNone\u001b[39;00m \u001b[38;5;28;01melse\u001b[39;00m \u001b[38;5;28mself\u001b[39m\u001b[38;5;241m.\u001b[39m_fit_X, \u001b[38;5;28mself\u001b[39m\u001b[38;5;241m.\u001b[39m_fit_X, \u001b[38;5;28mself\u001b[39m\u001b[38;5;241m.\u001b[39meffective_metric_\n\u001b[0;32m    821\u001b[0m     )\n\u001b[0;32m    822\u001b[0m )\n\u001b[0;32m    823\u001b[0m \u001b[38;5;28;01mif\u001b[39;00m use_pairwise_distances_reductions:\n\u001b[1;32m--> 824\u001b[0m     results \u001b[38;5;241m=\u001b[39m ArgKmin\u001b[38;5;241m.\u001b[39mcompute(\n\u001b[0;32m    825\u001b[0m         X\u001b[38;5;241m=\u001b[39mX,\n\u001b[0;32m    826\u001b[0m         Y\u001b[38;5;241m=\u001b[39m\u001b[38;5;28mself\u001b[39m\u001b[38;5;241m.\u001b[39m_fit_X,\n\u001b[0;32m    827\u001b[0m         k\u001b[38;5;241m=\u001b[39mn_neighbors,\n\u001b[0;32m    828\u001b[0m         metric\u001b[38;5;241m=\u001b[39m\u001b[38;5;28mself\u001b[39m\u001b[38;5;241m.\u001b[39meffective_metric_,\n\u001b[0;32m    829\u001b[0m         metric_kwargs\u001b[38;5;241m=\u001b[39m\u001b[38;5;28mself\u001b[39m\u001b[38;5;241m.\u001b[39meffective_metric_params_,\n\u001b[0;32m    830\u001b[0m         strategy\u001b[38;5;241m=\u001b[39m\u001b[38;5;124m\"\u001b[39m\u001b[38;5;124mauto\u001b[39m\u001b[38;5;124m\"\u001b[39m,\n\u001b[0;32m    831\u001b[0m         return_distance\u001b[38;5;241m=\u001b[39mreturn_distance,\n\u001b[0;32m    832\u001b[0m     )\n\u001b[0;32m    834\u001b[0m \u001b[38;5;28;01melif\u001b[39;00m (\n\u001b[0;32m    835\u001b[0m     \u001b[38;5;28mself\u001b[39m\u001b[38;5;241m.\u001b[39m_fit_method \u001b[38;5;241m==\u001b[39m \u001b[38;5;124m\"\u001b[39m\u001b[38;5;124mbrute\u001b[39m\u001b[38;5;124m\"\u001b[39m \u001b[38;5;129;01mand\u001b[39;00m \u001b[38;5;28mself\u001b[39m\u001b[38;5;241m.\u001b[39mmetric \u001b[38;5;241m==\u001b[39m \u001b[38;5;124m\"\u001b[39m\u001b[38;5;124mprecomputed\u001b[39m\u001b[38;5;124m\"\u001b[39m \u001b[38;5;129;01mand\u001b[39;00m issparse(X)\n\u001b[0;32m    836\u001b[0m ):\n\u001b[0;32m    837\u001b[0m     results \u001b[38;5;241m=\u001b[39m _kneighbors_from_graph(\n\u001b[0;32m    838\u001b[0m         X, n_neighbors\u001b[38;5;241m=\u001b[39mn_neighbors, return_distance\u001b[38;5;241m=\u001b[39mreturn_distance\n\u001b[0;32m    839\u001b[0m     )\n",
      "File \u001b[1;32m~\\anaconda3\\Lib\\site-packages\\sklearn\\metrics\\_pairwise_distances_reduction\\_dispatcher.py:277\u001b[0m, in \u001b[0;36mArgKmin.compute\u001b[1;34m(cls, X, Y, k, metric, chunk_size, metric_kwargs, strategy, return_distance)\u001b[0m\n\u001b[0;32m    196\u001b[0m \u001b[38;5;250m\u001b[39m\u001b[38;5;124;03m\"\"\"Compute the argkmin reduction.\u001b[39;00m\n\u001b[0;32m    197\u001b[0m \n\u001b[0;32m    198\u001b[0m \u001b[38;5;124;03mParameters\u001b[39;00m\n\u001b[1;32m   (...)\u001b[0m\n\u001b[0;32m    274\u001b[0m \u001b[38;5;124;03mreturns.\u001b[39;00m\n\u001b[0;32m    275\u001b[0m \u001b[38;5;124;03m\"\"\"\u001b[39;00m\n\u001b[0;32m    276\u001b[0m \u001b[38;5;28;01mif\u001b[39;00m X\u001b[38;5;241m.\u001b[39mdtype \u001b[38;5;241m==\u001b[39m Y\u001b[38;5;241m.\u001b[39mdtype \u001b[38;5;241m==\u001b[39m np\u001b[38;5;241m.\u001b[39mfloat64:\n\u001b[1;32m--> 277\u001b[0m     \u001b[38;5;28;01mreturn\u001b[39;00m ArgKmin64\u001b[38;5;241m.\u001b[39mcompute(\n\u001b[0;32m    278\u001b[0m         X\u001b[38;5;241m=\u001b[39mX,\n\u001b[0;32m    279\u001b[0m         Y\u001b[38;5;241m=\u001b[39mY,\n\u001b[0;32m    280\u001b[0m         k\u001b[38;5;241m=\u001b[39mk,\n\u001b[0;32m    281\u001b[0m         metric\u001b[38;5;241m=\u001b[39mmetric,\n\u001b[0;32m    282\u001b[0m         chunk_size\u001b[38;5;241m=\u001b[39mchunk_size,\n\u001b[0;32m    283\u001b[0m         metric_kwargs\u001b[38;5;241m=\u001b[39mmetric_kwargs,\n\u001b[0;32m    284\u001b[0m         strategy\u001b[38;5;241m=\u001b[39mstrategy,\n\u001b[0;32m    285\u001b[0m         return_distance\u001b[38;5;241m=\u001b[39mreturn_distance,\n\u001b[0;32m    286\u001b[0m     )\n\u001b[0;32m    288\u001b[0m \u001b[38;5;28;01mif\u001b[39;00m X\u001b[38;5;241m.\u001b[39mdtype \u001b[38;5;241m==\u001b[39m Y\u001b[38;5;241m.\u001b[39mdtype \u001b[38;5;241m==\u001b[39m np\u001b[38;5;241m.\u001b[39mfloat32:\n\u001b[0;32m    289\u001b[0m     \u001b[38;5;28;01mreturn\u001b[39;00m ArgKmin32\u001b[38;5;241m.\u001b[39mcompute(\n\u001b[0;32m    290\u001b[0m         X\u001b[38;5;241m=\u001b[39mX,\n\u001b[0;32m    291\u001b[0m         Y\u001b[38;5;241m=\u001b[39mY,\n\u001b[1;32m   (...)\u001b[0m\n\u001b[0;32m    297\u001b[0m         return_distance\u001b[38;5;241m=\u001b[39mreturn_distance,\n\u001b[0;32m    298\u001b[0m     )\n",
      "File \u001b[1;32msklearn\\metrics\\_pairwise_distances_reduction\\_argkmin.pyx:95\u001b[0m, in \u001b[0;36msklearn.metrics._pairwise_distances_reduction._argkmin.ArgKmin64.compute\u001b[1;34m()\u001b[0m\n",
      "File \u001b[1;32m~\\anaconda3\\Lib\\site-packages\\sklearn\\utils\\fixes.py:139\u001b[0m, in \u001b[0;36mthreadpool_limits\u001b[1;34m(limits, user_api)\u001b[0m\n\u001b[0;32m    137\u001b[0m     \u001b[38;5;28;01mreturn\u001b[39;00m controller\u001b[38;5;241m.\u001b[39mlimit(limits\u001b[38;5;241m=\u001b[39mlimits, user_api\u001b[38;5;241m=\u001b[39muser_api)\n\u001b[0;32m    138\u001b[0m \u001b[38;5;28;01melse\u001b[39;00m:\n\u001b[1;32m--> 139\u001b[0m     \u001b[38;5;28;01mreturn\u001b[39;00m threadpoolctl\u001b[38;5;241m.\u001b[39mthreadpool_limits(limits\u001b[38;5;241m=\u001b[39mlimits, user_api\u001b[38;5;241m=\u001b[39muser_api)\n",
      "File \u001b[1;32m~\\anaconda3\\Lib\\site-packages\\threadpoolctl.py:171\u001b[0m, in \u001b[0;36mthreadpool_limits.__init__\u001b[1;34m(self, limits, user_api)\u001b[0m\n\u001b[0;32m    167\u001b[0m \u001b[38;5;28;01mdef\u001b[39;00m \u001b[38;5;21m__init__\u001b[39m(\u001b[38;5;28mself\u001b[39m, limits\u001b[38;5;241m=\u001b[39m\u001b[38;5;28;01mNone\u001b[39;00m, user_api\u001b[38;5;241m=\u001b[39m\u001b[38;5;28;01mNone\u001b[39;00m):\n\u001b[0;32m    168\u001b[0m     \u001b[38;5;28mself\u001b[39m\u001b[38;5;241m.\u001b[39m_limits, \u001b[38;5;28mself\u001b[39m\u001b[38;5;241m.\u001b[39m_user_api, \u001b[38;5;28mself\u001b[39m\u001b[38;5;241m.\u001b[39m_prefixes \u001b[38;5;241m=\u001b[39m \\\n\u001b[0;32m    169\u001b[0m         \u001b[38;5;28mself\u001b[39m\u001b[38;5;241m.\u001b[39m_check_params(limits, user_api)\n\u001b[1;32m--> 171\u001b[0m     \u001b[38;5;28mself\u001b[39m\u001b[38;5;241m.\u001b[39m_original_info \u001b[38;5;241m=\u001b[39m \u001b[38;5;28mself\u001b[39m\u001b[38;5;241m.\u001b[39m_set_threadpool_limits()\n",
      "File \u001b[1;32m~\\anaconda3\\Lib\\site-packages\\threadpoolctl.py:268\u001b[0m, in \u001b[0;36mthreadpool_limits._set_threadpool_limits\u001b[1;34m(self)\u001b[0m\n\u001b[0;32m    265\u001b[0m \u001b[38;5;28;01mif\u001b[39;00m \u001b[38;5;28mself\u001b[39m\u001b[38;5;241m.\u001b[39m_limits \u001b[38;5;129;01mis\u001b[39;00m \u001b[38;5;28;01mNone\u001b[39;00m:\n\u001b[0;32m    266\u001b[0m     \u001b[38;5;28;01mreturn\u001b[39;00m \u001b[38;5;28;01mNone\u001b[39;00m\n\u001b[1;32m--> 268\u001b[0m modules \u001b[38;5;241m=\u001b[39m _ThreadpoolInfo(prefixes\u001b[38;5;241m=\u001b[39m\u001b[38;5;28mself\u001b[39m\u001b[38;5;241m.\u001b[39m_prefixes,\n\u001b[0;32m    269\u001b[0m                           user_api\u001b[38;5;241m=\u001b[39m\u001b[38;5;28mself\u001b[39m\u001b[38;5;241m.\u001b[39m_user_api)\n\u001b[0;32m    270\u001b[0m \u001b[38;5;28;01mfor\u001b[39;00m module \u001b[38;5;129;01min\u001b[39;00m modules:\n\u001b[0;32m    271\u001b[0m     \u001b[38;5;66;03m# self._limits is a dict {key: num_threads} where key is either\u001b[39;00m\n\u001b[0;32m    272\u001b[0m     \u001b[38;5;66;03m# a prefix or a user_api. If a module matches both, the limit\u001b[39;00m\n\u001b[0;32m    273\u001b[0m     \u001b[38;5;66;03m# corresponding to the prefix is chosed.\u001b[39;00m\n\u001b[0;32m    274\u001b[0m     \u001b[38;5;28;01mif\u001b[39;00m module\u001b[38;5;241m.\u001b[39mprefix \u001b[38;5;129;01min\u001b[39;00m \u001b[38;5;28mself\u001b[39m\u001b[38;5;241m.\u001b[39m_limits:\n",
      "File \u001b[1;32m~\\anaconda3\\Lib\\site-packages\\threadpoolctl.py:340\u001b[0m, in \u001b[0;36m_ThreadpoolInfo.__init__\u001b[1;34m(self, user_api, prefixes, modules)\u001b[0m\n\u001b[0;32m    337\u001b[0m     \u001b[38;5;28mself\u001b[39m\u001b[38;5;241m.\u001b[39muser_api \u001b[38;5;241m=\u001b[39m [] \u001b[38;5;28;01mif\u001b[39;00m user_api \u001b[38;5;129;01mis\u001b[39;00m \u001b[38;5;28;01mNone\u001b[39;00m \u001b[38;5;28;01melse\u001b[39;00m user_api\n\u001b[0;32m    339\u001b[0m     \u001b[38;5;28mself\u001b[39m\u001b[38;5;241m.\u001b[39mmodules \u001b[38;5;241m=\u001b[39m []\n\u001b[1;32m--> 340\u001b[0m     \u001b[38;5;28mself\u001b[39m\u001b[38;5;241m.\u001b[39m_load_modules()\n\u001b[0;32m    341\u001b[0m     \u001b[38;5;28mself\u001b[39m\u001b[38;5;241m.\u001b[39m_warn_if_incompatible_openmp()\n\u001b[0;32m    342\u001b[0m \u001b[38;5;28;01melse\u001b[39;00m:\n",
      "File \u001b[1;32m~\\anaconda3\\Lib\\site-packages\\threadpoolctl.py:373\u001b[0m, in \u001b[0;36m_ThreadpoolInfo._load_modules\u001b[1;34m(self)\u001b[0m\n\u001b[0;32m    371\u001b[0m     \u001b[38;5;28mself\u001b[39m\u001b[38;5;241m.\u001b[39m_find_modules_with_dyld()\n\u001b[0;32m    372\u001b[0m \u001b[38;5;28;01melif\u001b[39;00m sys\u001b[38;5;241m.\u001b[39mplatform \u001b[38;5;241m==\u001b[39m \u001b[38;5;124m\"\u001b[39m\u001b[38;5;124mwin32\u001b[39m\u001b[38;5;124m\"\u001b[39m:\n\u001b[1;32m--> 373\u001b[0m     \u001b[38;5;28mself\u001b[39m\u001b[38;5;241m.\u001b[39m_find_modules_with_enum_process_module_ex()\n\u001b[0;32m    374\u001b[0m \u001b[38;5;28;01melse\u001b[39;00m:\n\u001b[0;32m    375\u001b[0m     \u001b[38;5;28mself\u001b[39m\u001b[38;5;241m.\u001b[39m_find_modules_with_dl_iterate_phdr()\n",
      "File \u001b[1;32m~\\anaconda3\\Lib\\site-packages\\threadpoolctl.py:485\u001b[0m, in \u001b[0;36m_ThreadpoolInfo._find_modules_with_enum_process_module_ex\u001b[1;34m(self)\u001b[0m\n\u001b[0;32m    482\u001b[0m         filepath \u001b[38;5;241m=\u001b[39m buf\u001b[38;5;241m.\u001b[39mvalue\n\u001b[0;32m    484\u001b[0m         \u001b[38;5;66;03m# Store the module if it is supported and selected\u001b[39;00m\n\u001b[1;32m--> 485\u001b[0m         \u001b[38;5;28mself\u001b[39m\u001b[38;5;241m.\u001b[39m_make_module_from_path(filepath)\n\u001b[0;32m    486\u001b[0m \u001b[38;5;28;01mfinally\u001b[39;00m:\n\u001b[0;32m    487\u001b[0m     kernel_32\u001b[38;5;241m.\u001b[39mCloseHandle(h_process)\n",
      "File \u001b[1;32m~\\anaconda3\\Lib\\site-packages\\threadpoolctl.py:515\u001b[0m, in \u001b[0;36m_ThreadpoolInfo._make_module_from_path\u001b[1;34m(self, filepath)\u001b[0m\n\u001b[0;32m    513\u001b[0m \u001b[38;5;28;01mif\u001b[39;00m prefix \u001b[38;5;129;01min\u001b[39;00m \u001b[38;5;28mself\u001b[39m\u001b[38;5;241m.\u001b[39mprefixes \u001b[38;5;129;01mor\u001b[39;00m user_api \u001b[38;5;129;01min\u001b[39;00m \u001b[38;5;28mself\u001b[39m\u001b[38;5;241m.\u001b[39muser_api:\n\u001b[0;32m    514\u001b[0m     module_class \u001b[38;5;241m=\u001b[39m \u001b[38;5;28mglobals\u001b[39m()[module_class]\n\u001b[1;32m--> 515\u001b[0m     module \u001b[38;5;241m=\u001b[39m module_class(filepath, prefix, user_api, internal_api)\n\u001b[0;32m    516\u001b[0m     \u001b[38;5;28mself\u001b[39m\u001b[38;5;241m.\u001b[39mmodules\u001b[38;5;241m.\u001b[39mappend(module)\n",
      "File \u001b[1;32m~\\anaconda3\\Lib\\site-packages\\threadpoolctl.py:606\u001b[0m, in \u001b[0;36m_Module.__init__\u001b[1;34m(self, filepath, prefix, user_api, internal_api)\u001b[0m\n\u001b[0;32m    604\u001b[0m \u001b[38;5;28mself\u001b[39m\u001b[38;5;241m.\u001b[39minternal_api \u001b[38;5;241m=\u001b[39m internal_api\n\u001b[0;32m    605\u001b[0m \u001b[38;5;28mself\u001b[39m\u001b[38;5;241m.\u001b[39m_dynlib \u001b[38;5;241m=\u001b[39m ctypes\u001b[38;5;241m.\u001b[39mCDLL(filepath, mode\u001b[38;5;241m=\u001b[39m_RTLD_NOLOAD)\n\u001b[1;32m--> 606\u001b[0m \u001b[38;5;28mself\u001b[39m\u001b[38;5;241m.\u001b[39mversion \u001b[38;5;241m=\u001b[39m \u001b[38;5;28mself\u001b[39m\u001b[38;5;241m.\u001b[39mget_version()\n\u001b[0;32m    607\u001b[0m \u001b[38;5;28mself\u001b[39m\u001b[38;5;241m.\u001b[39mnum_threads \u001b[38;5;241m=\u001b[39m \u001b[38;5;28mself\u001b[39m\u001b[38;5;241m.\u001b[39mget_num_threads()\n\u001b[0;32m    608\u001b[0m \u001b[38;5;28mself\u001b[39m\u001b[38;5;241m.\u001b[39m_get_extra_info()\n",
      "File \u001b[1;32m~\\anaconda3\\Lib\\site-packages\\threadpoolctl.py:646\u001b[0m, in \u001b[0;36m_OpenBLASModule.get_version\u001b[1;34m(self)\u001b[0m\n\u001b[0;32m    643\u001b[0m get_config \u001b[38;5;241m=\u001b[39m \u001b[38;5;28mgetattr\u001b[39m(\u001b[38;5;28mself\u001b[39m\u001b[38;5;241m.\u001b[39m_dynlib, \u001b[38;5;124m\"\u001b[39m\u001b[38;5;124mopenblas_get_config\u001b[39m\u001b[38;5;124m\"\u001b[39m,\n\u001b[0;32m    644\u001b[0m                      \u001b[38;5;28;01mlambda\u001b[39;00m: \u001b[38;5;28;01mNone\u001b[39;00m)\n\u001b[0;32m    645\u001b[0m get_config\u001b[38;5;241m.\u001b[39mrestype \u001b[38;5;241m=\u001b[39m ctypes\u001b[38;5;241m.\u001b[39mc_char_p\n\u001b[1;32m--> 646\u001b[0m config \u001b[38;5;241m=\u001b[39m get_config()\u001b[38;5;241m.\u001b[39msplit()\n\u001b[0;32m    647\u001b[0m \u001b[38;5;28;01mif\u001b[39;00m config[\u001b[38;5;241m0\u001b[39m] \u001b[38;5;241m==\u001b[39m \u001b[38;5;124mb\u001b[39m\u001b[38;5;124m\"\u001b[39m\u001b[38;5;124mOpenBLAS\u001b[39m\u001b[38;5;124m\"\u001b[39m:\n\u001b[0;32m    648\u001b[0m     \u001b[38;5;28;01mreturn\u001b[39;00m config[\u001b[38;5;241m1\u001b[39m]\u001b[38;5;241m.\u001b[39mdecode(\u001b[38;5;124m\"\u001b[39m\u001b[38;5;124mutf-8\u001b[39m\u001b[38;5;124m\"\u001b[39m)\n",
      "\u001b[1;31mAttributeError\u001b[0m: 'NoneType' object has no attribute 'split'"
     ]
    }
   ],
   "source": [
    "# KNN - Classifier\n",
    "\n",
    "from sklearn.neighbors import KNeighborsClassifier\n",
    "\n",
    "knn_model = KNeighborsClassifier(n_neighbors = 3)\n",
    "\n",
    "knn_model.fit(train_x,train_y)\n",
    "\n",
    "print(test_x)\n",
    "\n",
    "knn_predictions = knn_model.predict(test_x)\n",
    "\n",
    "print(knn_predictions)"
   ]
  },
  {
   "cell_type": "code",
   "execution_count": 29,
   "id": "9e5bbaf2",
   "metadata": {},
   "outputs": [],
   "source": [
    "# SVM\n",
    "\n",
    "from sklearn.svm import SVC\n",
    "\n",
    "svc_model = SVC()\n",
    "\n",
    "svc_model.fit(train_x,train_y)\n",
    "\n",
    "svc_predictions = svc_model.predict(test_x)\n"
   ]
  },
  {
   "cell_type": "code",
   "execution_count": 30,
   "id": "c6d81bdb",
   "metadata": {},
   "outputs": [
    {
     "name": "stdout",
     "output_type": "stream",
     "text": [
      "[[ 77 162]\n",
      " [  8 211]]\n",
      "0.62882096069869\n"
     ]
    }
   ],
   "source": [
    "# Metrics for SVM\n",
    "\n",
    "# Confusion Matrix\n",
    "svc_confusion = confusion_matrix(test_y,svc_predictions)\n",
    "print(svc_confusion)\n",
    "\n",
    "# Accuracy\n",
    "svc_accuracy = accuracy_score(test_y,svc_predictions)\n",
    "print(svc_accuracy)\n"
   ]
  },
  {
   "cell_type": "code",
   "execution_count": 33,
   "id": "e487d087",
   "metadata": {},
   "outputs": [],
   "source": [
    "# Naive Bayers \n",
    "\n",
    "from sklearn.naive_bayes import GaussianNB\n",
    "\n",
    "nb_model = GaussianNB()\n",
    "\n",
    "nb_model.fit(train_x,train_y)\n",
    "\n",
    "nb_predictions = nb_model.predict(test_x)"
   ]
  },
  {
   "cell_type": "code",
   "execution_count": 35,
   "id": "008c0723",
   "metadata": {},
   "outputs": [
    {
     "name": "stdout",
     "output_type": "stream",
     "text": [
      "[[158  81]\n",
      " [ 68 151]]\n",
      "0.6746724890829694\n"
     ]
    }
   ],
   "source": [
    "# Metrics for Naive Bayes Algorithm\n",
    "\n",
    "#Confusion Matrix\n",
    "nb_confusion = confusion_matrix(test_y,nb_predictions)\n",
    "print(nb_confusion)\n",
    "\n",
    "#Accuracy\n",
    "nb_accuracy = accuracy_score(test_y,nb_predictions)\n",
    "print(nb_accuracy)"
   ]
  }
 ],
 "metadata": {
  "kernelspec": {
   "display_name": "Python 3 (ipykernel)",
   "language": "python",
   "name": "python3"
  },
  "language_info": {
   "codemirror_mode": {
    "name": "ipython",
    "version": 3
   },
   "file_extension": ".py",
   "mimetype": "text/x-python",
   "name": "python",
   "nbconvert_exporter": "python",
   "pygments_lexer": "ipython3",
   "version": "3.11.3"
  }
 },
 "nbformat": 4,
 "nbformat_minor": 5
}
